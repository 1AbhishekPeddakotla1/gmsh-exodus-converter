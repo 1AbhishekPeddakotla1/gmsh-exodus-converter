{
 "metadata": {
  "name": "",
  "signature": "sha256:bb7ea42b7ba780cdef0f60f5b743d9f9bf93667d56db2976d941667cbfd02a4e"
 },
 "nbformat": 3,
 "nbformat_minor": 0,
 "worksheets": [
  {
   "cells": [
    {
     "cell_type": "code",
     "collapsed": false,
     "input": [
      "import numpy as np"
     ],
     "language": "python",
     "metadata": {},
     "outputs": [],
     "prompt_number": 10
    },
    {
     "cell_type": "code",
     "collapsed": false,
     "input": [
      "from vtk import vtkExodusIIWriter\n",
      "from vtk import vtkUnstructuredGrid, VTK_TRIANGLE, VTK_TETRA, vtkIdList, vtkPoints "
     ],
     "language": "python",
     "metadata": {},
     "outputs": [],
     "prompt_number": 64
    },
    {
     "cell_type": "code",
     "collapsed": false,
     "input": [
      "points = [[0.0, 0.0, 0.0], \n",
      "              [1.0, 0.0, 0.0], \n",
      "              [1.0, 1.0, 0.0], \n",
      "              [0.0, 1.0, 0.0]] \n",
      "cellsNodes = [[0,1,3], \n",
      "             [1,2,3]] "
     ],
     "language": "python",
     "metadata": {},
     "outputs": [],
     "prompt_number": 75
    },
    {
     "cell_type": "code",
     "collapsed": false,
     "input": [
      "mesh = vtkUnstructuredGrid()  \n",
      "vtk_points = vtkPoints() \n",
      "for point in points: \n",
      "    vtk_points.InsertNextPoint(point[0], point[1], point[2]) \n",
      "mesh.SetPoints( vtk_points ) "
     ],
     "language": "python",
     "metadata": {},
     "outputs": [],
     "prompt_number": 73
    },
    {
     "cell_type": "code",
     "collapsed": false,
     "input": [
      "for cellNodes in cellsNodes: \n",
      "    pts = vtkIdList() \n",
      "    num_local_nodes = len(cellNodes) \n",
      "    pts.SetNumberOfIds(num_local_nodes) \n",
      "    # get the connectivity for this element \n",
      "    for k, node_index in enumerate(cellNodes): \n",
      "        pts.InsertId(k, node_index) \n",
      "    mesh.InsertNextCell(VTK_TRIANGLE, pts) "
     ],
     "language": "python",
     "metadata": {},
     "outputs": [],
     "prompt_number": 76
    },
    {
     "cell_type": "code",
     "collapsed": false,
     "input": [
      "writer = vtkExodusIIWriter() \n",
      "writer.WriteAllTimeStepsOn() \n",
      "writer.SetFileName(\"./output.g\") \n",
      "writer.SetInputData(mesh) \n",
      "writer.Write() "
     ],
     "language": "python",
     "metadata": {},
     "outputs": [
      {
       "metadata": {},
       "output_type": "pyout",
       "prompt_number": 91,
       "text": [
        "1"
       ]
      }
     ],
     "prompt_number": 91
    }
   ],
   "metadata": {}
  }
 ]
}