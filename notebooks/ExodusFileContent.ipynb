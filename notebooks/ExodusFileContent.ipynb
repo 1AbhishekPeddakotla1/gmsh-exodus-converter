{
 "metadata": {
  "name": "",
  "signature": "sha256:4183f98b3f3126670df4367016757eb7ed3ca8a32b1f7857247fffa8a8a90cf0"
 },
 "nbformat": 3,
 "nbformat_minor": 0,
 "worksheets": [
  {
   "cells": [
    {
     "cell_type": "code",
     "collapsed": false,
     "input": [
      "import numpy as np"
     ],
     "language": "python",
     "metadata": {},
     "outputs": [],
     "prompt_number": 2
    },
    {
     "cell_type": "code",
     "collapsed": false,
     "input": [
      "from vtk import vtkExodusIIReader"
     ],
     "language": "python",
     "metadata": {},
     "outputs": [],
     "prompt_number": 3
    },
    {
     "cell_type": "code",
     "collapsed": false,
     "input": [
      "#Prepare the reader to read exodus II files\n",
      "reader = vtkExodusIIReader()\n",
      "reader.SetFileName(\"./input.g\")\n",
      "reader.GenerateGlobalNodeIdArrayOn()\n",
      "reader.GenerateGlobalElementIdArrayOn()\n",
      "reader.SetAllArrayStatus(reader.GLOBAL,1)\n",
      "reader.ExodusModelMetadataOn()\n",
      "reader.GenerateFileIdArrayOn()"
     ],
     "language": "python",
     "metadata": {},
     "outputs": [],
     "prompt_number": 6
    },
    {
     "cell_type": "code",
     "collapsed": false,
     "input": [
      "#Read the initial timte step to extract the initial positions\n",
      "reader.SetTimeStep(1)\n",
      "reader.UpdateInformation()"
     ],
     "language": "python",
     "metadata": {},
     "outputs": [],
     "prompt_number": 12
    },
    {
     "cell_type": "code",
     "collapsed": false,
     "input": [
      "numberOfNodes = reader.GetNumberOfNodesInFile()\n",
      "numberOfEdges = reader.GetNumberOfEdgesInFile()\n",
      "numberOfFaces = reader.GetNumberOfFacesInFile()\n",
      "print numberOfNodes , numberOfEdges , numberOfFaces"
     ],
     "language": "python",
     "metadata": {},
     "outputs": [
      {
       "output_type": "stream",
       "stream": "stdout",
       "text": [
        "16524 0 0\n"
       ]
      }
     ],
     "prompt_number": 34
    },
    {
     "cell_type": "code",
     "collapsed": false,
     "input": [
      "print reader.GetNumberOfTimeSteps()"
     ],
     "language": "python",
     "metadata": {},
     "outputs": [
      {
       "output_type": "stream",
       "stream": "stdout",
       "text": [
        "0\n"
       ]
      }
     ],
     "prompt_number": 36
    }
   ],
   "metadata": {}
  }
 ]
}
